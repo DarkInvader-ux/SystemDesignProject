{
 "cells": [
  {
   "cell_type": "code",
   "execution_count": 1,
   "id": "aa0d223f-0fab-400b-aea7-f4354daec207",
   "metadata": {},
   "outputs": [],
   "source": [
    "# Alp Ozkayikci Nezir Uran Jennifer Warbeck\n"
   ]
  },
  {
   "cell_type": "code",
   "execution_count": 21,
   "id": "f07e177a-2afd-4bc1-be65-bd2db9c39990",
   "metadata": {},
   "outputs": [],
   "source": [
    "from vivarium.controllers.notebook_controller import NotebookController\n",
    "from vivarium.utils.handle_server_interface import start_server_and_interface, stop_server_and_interface"
   ]
  },
  {
   "cell_type": "code",
   "execution_count": 22,
   "id": "f65a4088-4f95-4e62-8f5e-ad7c53b21dd7",
   "metadata": {
    "scrolled": true
   },
   "outputs": [
    {
     "name": "stderr",
     "output_type": "stream",
     "text": [
      "The 'start_server_and_interface' function is not supported on Windows OS\n",
      "Instead, start the server and interface by running the following command from the root directory in a Windows Powershell (make sure to activate the virtual environment before). Then click on the link to open the web interface:\n",
      "\n",
      "start_all.bat dragonfly_tadpole_scene\n"
     ]
    }
   ],
   "source": [
    "start_server_and_interface(scene_name=\"dragonfly_tadpole_scene\")\n"
   ]
  },
  {
   "cell_type": "code",
   "execution_count": 23,
   "id": "d49ce262-df9f-4822-ba77-a72c20cfb4c2",
   "metadata": {},
   "outputs": [],
   "source": [
    "controller = NotebookController()"
   ]
  },
  {
   "cell_type": "code",
   "execution_count": 24,
   "id": "4664bf08-46d0-4e59-86e5-314b7e0cb295",
   "metadata": {},
   "outputs": [
    {
     "data": {
      "text/plain": [
       "[<vivarium.controllers.notebook_controller.Agent at 0x1ade6b4f770>,\n",
       " <vivarium.controllers.notebook_controller.Agent at 0x1ade6b4dac0>,\n",
       " <vivarium.controllers.notebook_controller.Agent at 0x1ade6b4ef60>,\n",
       " <vivarium.controllers.notebook_controller.Agent at 0x1ade6b4f380>,\n",
       " <vivarium.controllers.notebook_controller.Agent at 0x1ade6b4dbe0>,\n",
       " <vivarium.controllers.notebook_controller.Agent at 0x1ade6b4d790>]"
      ]
     },
     "execution_count": 24,
     "metadata": {},
     "output_type": "execute_result"
    }
   ],
   "source": [
    "controller.agents"
   ]
  },
  {
   "cell_type": "code",
   "execution_count": 25,
   "id": "ace9889d-0ca1-49ac-b786-7c4945045882",
   "metadata": {
    "scrolled": true
   },
   "outputs": [
    {
     "name": "stderr",
     "output_type": "stream",
     "text": [
      "Exception in thread Thread-5 (_run):\n",
      "Traceback (most recent call last):\n",
      "  File \"C:\\Users\\alpoz\\AppData\\Local\\Programs\\Python\\Python312\\Lib\\threading.py\", line 1075, in _bootstrap_inner\n",
      "    self.run()\n",
      "  File \"C:\\Users\\alpoz\\OneDrive\\Desktop\\vivarium\\env_vivarium\\Lib\\site-packages\\ipykernel\\ipkernel.py\", line 766, in run_closure\n",
      "    _threading_Thread_run(self)\n",
      "  File \"C:\\Users\\alpoz\\AppData\\Local\\Programs\\Python\\Python312\\Lib\\threading.py\", line 1012, in run\n",
      "    self._target(*self._args, **self._kwargs)\n",
      "  File \"C:\\Users\\alpoz\\OneDrive\\Desktop\\vivarium\\vivarium\\controllers\\notebook_controller.py\", line 569, in _run\n",
      "    entity.set_events()\n",
      "  File \"C:\\Users\\alpoz\\OneDrive\\Desktop\\vivarium\\vivarium\\controllers\\notebook_controller.py\", line 64, in set_events\n",
      "    setattr(self.config, k, v)\n",
      "  File \"C:\\Users\\alpoz\\OneDrive\\Desktop\\vivarium\\env_vivarium\\Lib\\site-packages\\param\\parameterized.py\", line 525, in _f\n",
      "    instance_param.__set__(obj, val)\n",
      "  File \"C:\\Users\\alpoz\\OneDrive\\Desktop\\vivarium\\env_vivarium\\Lib\\site-packages\\param\\parameterized.py\", line 527, in _f\n",
      "    return f(self, obj, val)\n",
      "           ^^^^^^^^^^^^^^^^^\n",
      "  File \"C:\\Users\\alpoz\\OneDrive\\Desktop\\vivarium\\env_vivarium\\Lib\\site-packages\\param\\parameters.py\", line 542, in __set__\n",
      "    super().__set__(obj,val)\n",
      "  File \"C:\\Users\\alpoz\\OneDrive\\Desktop\\vivarium\\env_vivarium\\Lib\\site-packages\\param\\parameterized.py\", line 527, in _f\n",
      "    return f(self, obj, val)\n",
      "           ^^^^^^^^^^^^^^^^^\n",
      "  File \"C:\\Users\\alpoz\\OneDrive\\Desktop\\vivarium\\env_vivarium\\Lib\\site-packages\\param\\parameterized.py\", line 1490, in __set__\n",
      "    self._validate(val)\n",
      "  File \"C:\\Users\\alpoz\\OneDrive\\Desktop\\vivarium\\env_vivarium\\Lib\\site-packages\\param\\parameters.py\", line 829, in _validate\n",
      "    self._validate_bounds(val, self.bounds, self.inclusive_bounds)\n",
      "  File \"C:\\Users\\alpoz\\OneDrive\\Desktop\\vivarium\\env_vivarium\\Lib\\site-packages\\param\\parameters.py\", line 780, in _validate_bounds\n",
      "    raise ValueError(\n",
      "ValueError: Number parameter 'AgentConfig.left_motor' must be at most 1.0, not 10.\n"
     ]
    }
   ],
   "source": [
    "controller.run()"
   ]
  },
  {
   "cell_type": "code",
   "execution_count": 26,
   "id": "40386e62-6ea5-4f09-a2c4-4df30fd68719",
   "metadata": {},
   "outputs": [],
   "source": [
    "def tadpole_behavior(agent):\n",
    "    \"\"\"Tadpole slows down when sensing a dragonfly larvae.\"\"\"\n",
    "    \n",
    "    # Set default motor values\n",
    "    agent.left_motor = 1.0\n",
    "    agent.right_motor = 1.0\n",
    "    \n",
    "    \n",
    "    left, right = agent.sensors(sensed_entities=[\"DRAGONFLY_LARVAE\"])\n",
    "    \n",
    "    # If sensing a predator, stop moving\n",
    "    if left or right:\n",
    "        agent.left_motor = 0.0\n",
    "        agent.right_motor = 0.0  \n",
    "    \n",
    "    return agent.right_motor, agent.left_motor  # Crossed excitatory connections\n",
    "\n",
    "\n",
    "\n",
    "def dragonfly_behavior(agent):\n",
    "    \"\"\"Dragonfly larvae hunt tadpoles; dies if it doesn’t eat for 10s.\"\"\"\n",
    "    \n",
    "    # Set default motor values\n",
    "    agent.left_motor = 1.0\n",
    "    agent.right_motor = 1.0\n",
    "    left, right = agent.sensors(sensed_entities=[\"TADPOLES\"])\n",
    "\n",
    "    # If sensing a tadpole, move toward it\n",
    "    if left or right:\n",
    "        agent.left_motor = left\n",
    "        agent.right_motor = right  \n",
    "\n",
    "    return agent.left_motor, agent.right_motor\n",
    "\n",
    "\n"
   ]
  },
  {
   "cell_type": "code",
   "execution_count": 31,
   "id": "8998c7bf-cfb8-4c5b-b516-fc0a20acfc33",
   "metadata": {},
   "outputs": [],
   "source": [
    "tadpoles = [controller.agents[0],controller.agents[1],controller.agents[2],controller.agents[3]]\n",
    "dragonflies = [controller.agents[4],controller.agents[5]]\n",
    "for tadpole in tadpoles:\n",
    "    tadpole.detach_all_behaviors()\n",
    "    tadpole.attach_behavior(tadpole_behavior)\n",
    "\n",
    "for dragonfly in dragonflies:\n",
    "    dragonfly.detach_all_behaviors()\n",
    "    dragonfly.attach_behavior(dragonfly_behavior)\n",
    "\n",
    "\n",
    "tadpoles[1].start_all_behaviors()\n",
    "tadpoles[1].left_motor = 10"
   ]
  },
  {
   "cell_type": "code",
   "execution_count": 29,
   "id": "7a5dccd6-4dcf-45c8-bcff-e39d23846f6a",
   "metadata": {},
   "outputs": [],
   "source": [
    "\n"
   ]
  },
  {
   "cell_type": "code",
   "execution_count": null,
   "id": "25f87631-020a-40e3-a032-77fce17b1ea7",
   "metadata": {},
   "outputs": [],
   "source": []
  }
 ],
 "metadata": {
  "kernelspec": {
   "display_name": "Python 3 (ipykernel)",
   "language": "python",
   "name": "python3"
  },
  "language_info": {
   "codemirror_mode": {
    "name": "ipython",
    "version": 3
   },
   "file_extension": ".py",
   "mimetype": "text/x-python",
   "name": "python",
   "nbconvert_exporter": "python",
   "pygments_lexer": "ipython3",
   "version": "3.12.7"
  }
 },
 "nbformat": 4,
 "nbformat_minor": 5
}
