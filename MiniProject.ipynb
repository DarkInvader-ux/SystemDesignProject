{
 "cells": [
  {
   "cell_type": "code",
   "execution_count": 1,
   "id": "aa0d223f-0fab-400b-aea7-f4354daec207",
   "metadata": {},
   "outputs": [],
   "source": [
    "# Alp Ozkayikci Nezir Uran Jennifer Warbeck\n"
   ]
  },
  {
   "cell_type": "code",
   "execution_count": 1,
   "id": "f07e177a-2afd-4bc1-be65-bd2db9c39990",
   "metadata": {},
   "outputs": [],
   "source": [
    "from vivarium.controllers.notebook_controller import NotebookController\n",
    "from vivarium.utils.handle_server_interface import start_server_and_interface, stop_server_and_interface"
   ]
  },
  {
   "cell_type": "code",
   "execution_count": 2,
   "id": "f65a4088-4f95-4e62-8f5e-ad7c53b21dd7",
   "metadata": {
    "scrolled": true
   },
   "outputs": [
    {
     "name": "stderr",
     "output_type": "stream",
     "text": [
      "The 'start_server_and_interface' function is not supported on Windows OS\n",
      "Instead, start the server and interface by running the following command from the root directory in a Windows Powershell (make sure to activate the virtual environment before). Then click on the link to open the web interface:\n",
      "\n",
      "start_all.bat dragonfly_tadpole_scene\n"
     ]
    }
   ],
   "source": [
    "start_server_and_interface(scene_name=\"dragonfly_tadpole_scene\")\n"
   ]
  },
  {
   "cell_type": "code",
   "execution_count": 3,
   "id": "d49ce262-df9f-4822-ba77-a72c20cfb4c2",
   "metadata": {},
   "outputs": [],
   "source": [
    "controller = NotebookController()"
   ]
  },
  {
   "cell_type": "code",
   "execution_count": 4,
   "id": "4664bf08-46d0-4e59-86e5-314b7e0cb295",
   "metadata": {},
   "outputs": [
    {
     "data": {
      "text/plain": [
       "[<vivarium.controllers.notebook_controller.Agent at 0x1cb2ad59880>,\n",
       " <vivarium.controllers.notebook_controller.Agent at 0x1cb2ad59910>,\n",
       " <vivarium.controllers.notebook_controller.Agent at 0x1cb2ad599d0>,\n",
       " <vivarium.controllers.notebook_controller.Agent at 0x1cb2ad59a90>,\n",
       " <vivarium.controllers.notebook_controller.Agent at 0x1cb2ad59b50>,\n",
       " <vivarium.controllers.notebook_controller.Agent at 0x1cb2ad59c10>]"
      ]
     },
     "execution_count": 4,
     "metadata": {},
     "output_type": "execute_result"
    }
   ],
   "source": [
    "controller.agents"
   ]
  },
  {
   "cell_type": "code",
   "execution_count": 5,
   "id": "ace9889d-0ca1-49ac-b786-7c4945045882",
   "metadata": {
    "scrolled": true
   },
   "outputs": [],
   "source": [
    "controller.run()"
   ]
  },
  {
   "cell_type": "code",
   "execution_count": null,
   "id": "25f87631-020a-40e3-a032-77fce17b1ea7",
   "metadata": {},
   "outputs": [],
   "source": []
  },
  {
   "cell_type": "code",
   "execution_count": 6,
   "id": "40386e62-6ea5-4f09-a2c4-4df30fd68719",
   "metadata": {},
   "outputs": [],
   "source": [
    "def tadpole_behavior(agent):\n",
    "    \"\"\"Tadpole slows down when sensing a dragonfly larvae.\"\"\"\n",
    "    \n",
    "    left, right = agent.sensors(sensed_entities=[\"DRAGONFLY_LARVAE\"])\n",
    "    \n",
    "    left_motor = 0.5\n",
    "    right_motor = 0.5\n",
    "    if left > 0 or right > 0:\n",
    "        left_motor = 0\n",
    "        right_motor = 0\n",
    "    return left_motor, right_motor\n",
    "\n",
    "def dragonfly_behavior(agent):\n",
    "    \"\"\"Dragonfly larvae hunt tadpoles; increases speed and turns towards them.\"\"\"\n",
    "\n",
    "    left, right = agent.sensors(sensed_entities=[\"TADPOLES\"])\n",
    "\n",
    "    base_speed = 0.5  # Maintain constant speed\n",
    "    \n",
    "    if left > 0 or right > 0:\n",
    "        base_speed += 0.2\n",
    "        left_motor = base_speed + (right - left)  # Turn towards right if sensing on left\n",
    "        right_motor = base_speed + (left - right) # Turn towards left if sensing on right\n",
    "    else:\n",
    "        left_motor = base_speed\n",
    "        right_motor = base_speed  # Move straight if no tadpoles detected\n",
    "\n",
    "    # Ensure motor values stay within the range [0, 1.0]\n",
    "    left_motor = max(0.0, min(left_motor, 1.0))\n",
    "    right_motor = max(0.0, min(right_motor, 1.0))\n",
    "\n",
    "    agent.diet = [\"TADPOLES\"] \n",
    "    return left_motor, right_motor"
   ]
  },
  {
   "cell_type": "code",
   "execution_count": 7,
   "id": "c3746811-bf82-491b-abf4-fe1300f969d9",
   "metadata": {},
   "outputs": [],
   "source": [
    "import asyncio\n",
    "\n",
    "async def monitor_hunger(agent):\n",
    "    \"\"\"Recursively checks if the dragonfly larvae has eaten in the last 10 seconds.\n",
    "       If not, removes the agent from the simulation.\n",
    "    \"\"\"\n",
    "    hunger_limit = 10.0  # Max time (seconds) without eating\n",
    "\n",
    "    while True:\n",
    "        await asyncio.sleep(50)  # Wait 10 seconds before checking condition\n",
    "\n",
    "        \n",
    "        # If hunger limit exceeded, remove the agent\n",
    "        if agent.has_eaten_since(50) == False:\n",
    "            agent.exists = False\n",
    "            return  # Stop the coroutine after removal\n"
   ]
  },
  {
   "cell_type": "code",
   "execution_count": 8,
   "id": "8998c7bf-cfb8-4c5b-b516-fc0a20acfc33",
   "metadata": {},
   "outputs": [],
   "source": [
    "tadpoles = [controller.agents[0], controller.agents[1], controller.agents[2], controller.agents[3]]\n",
    "dragonflies = [controller.agents[4], controller.agents[5]]\n",
    "for tadpole in tadpoles:\n",
    "    tadpole.detach_all_behaviors()\n",
    "    tadpole.attach_behavior(tadpole_behavior)\n",
    "    tadpole.left_motor = 0.5\n",
    "    tadpole.right_motor = 0.5\n",
    "for dragonfly in dragonflies:\n",
    "    dragonfly.detach_all_behaviors()\n",
    "    dragonfly.attach_behavior(dragonfly_behavior)\n",
    "    asyncio.create_task(monitor_hunger(dragonfly))\n",
    "    dragonfly.left_motor = 0.5\n",
    "    dragonfly.right_motor = 0.5\n",
    "controller.start_eating_mechanism()\n"
   ]
  },
  {
   "cell_type": "code",
   "execution_count": null,
   "id": "09741488-a8b1-4c9d-ba6f-0e5358222572",
   "metadata": {},
   "outputs": [],
   "source": []
  },
  {
   "cell_type": "code",
   "execution_count": null,
   "id": "2336b47b-24b6-42b7-b18e-0c140b3e37c2",
   "metadata": {},
   "outputs": [],
   "source": []
  }
 ],
 "metadata": {
  "kernelspec": {
   "display_name": "Python 3 (ipykernel)",
   "language": "python",
   "name": "python3"
  },
  "language_info": {
   "codemirror_mode": {
    "name": "ipython",
    "version": 3
   },
   "file_extension": ".py",
   "mimetype": "text/x-python",
   "name": "python",
   "nbconvert_exporter": "python",
   "pygments_lexer": "ipython3",
   "version": "3.12.7"
  }
 },
 "nbformat": 4,
 "nbformat_minor": 5
}
