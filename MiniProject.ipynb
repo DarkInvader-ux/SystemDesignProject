{
 "cells": [
  {
   "cell_type": "code",
   "execution_count": null,
   "id": "7dbc01c1-8555-431b-823e-477cf2140ee0",
   "metadata": {},
   "outputs": [],
   "source": [
    "# Alp Ozkayikci, Nezir Uran, Jennifer Warbeck \n",
    "# UPF CSIM 2025: Systems Design, Integration and Control "
   ]
  },
  {
   "cell_type": "markdown",
   "id": "92fd7921-f983-4939-849e-f12a2b07da76",
   "metadata": {},
   "source": [
    "# Simulating the Relationship between Tadpoles and Dragonfly Larvae in Freshwater Ecosystems\n",
    "#### Course: Systems Design, Integration and Control (2025)\n",
    "**Project by Alp Ozkayikci, Nezir Uran, Jennifer Warbeck**"
   ]
  },
  {
   "cell_type": "markdown",
   "id": "a33b151d-730d-413a-beec-500941b2c138",
   "metadata": {},
   "source": [
    "### Background\n",
    "A study done by Takahara et al (2004) explored how Hyla japonica tadpoles detect and respond to predator cues from the dragonfly nymph Anax parthenope julius. The tadpoles reduced their activity levels when exposed to chemical cues from the predator, but didn’t react to visual cues. Interestingly, tadpoles could detect these chemical signals from a greater distance than the dragonfly could detect the tadpoles, suggesting an evolutionary advantage for the tadpoles in avoiding predators. This difference in detection range highlights how chemical cue detection helps shape predator-prey dynamics in aquatic environments, enabling tadpoles to initiate defensive behaviors before becoming visible to their predators.\n",
    "\n",
    "In another study by Mogali et al (2023), it was found that tadpoles of Clinotarsus curtipes assess predation risk using chemical cues. The tadpoles showed no response to kairomones from unfed Pantala flavescens larvae but exhibited strong antipredator behaviors—such as reduced swimming and increased burst speed—when exposed to water containing predator excreta. Their strongest response occurred when predators had consumed conspecific tadpoles, indicating their ability to gauge predation risk and adjust defense behaviors accordingly."
   ]
  },
  {
   "cell_type": "markdown",
   "id": "ea14daca-e979-4849-af1c-9b57d8ebbd66",
   "metadata": {},
   "source": [
    "![Dragonfly Larvae preying Tadpoles](https://images.fineartamerica.com/images-medium-large-5/dragonfly-larva-preying-on-tadpoles-nigel-cattlin.jpg)\n",
    "Fig. 1: Dragonfly Larvae preying on Tadpoles"
   ]
  },
  {
   "cell_type": "markdown",
   "id": "ed7812e2-6569-4f46-b3b7-8d66bdae69a8",
   "metadata": {},
   "source": [
    "# The Simulation\n",
    "#### Work distribution\n",
    "We worked on this project together in a few sessions after class, pair programming style. Everyone contributed to the research and the coding."
   ]
  },
  {
   "cell_type": "markdown",
   "id": "c6056b1d-4456-4da8-9afc-ac6528c5c69e",
   "metadata": {},
   "source": [
    "## Predator-Prey Dynamics in the Simulation\n",
    "\n",
    "### Agent Types:\n",
    "1. **Tadpoles** 🟡  \n",
    "   - Have a **(almost) circular vision field** (detect predators via chemical cues).  \n",
    "   - **Slow down when sensing a dragonfly** (fails in 10% of encounters).  \n",
    "   - If they **stop moving, they become invisible** to the dragonfly.\n",
    "\n",
    "2. **Dragonfly Larvae** 🔺  \n",
    "   - Have a **triangular vision field** (can only see directly ahead).  \n",
    "   - **Can only detect moving tadpoles** and will chase and eat them.  \n",
    "   - **If it doesn't eat for 10 seconds, it dies** (gets destroyed).\n",
    "\n",
    "### Key Dynamics:\n",
    "- **Hunger Dynamic**: Dragonfly larvae must hunt tadpoles to survive.  \n",
    "- **Fear Dynamic**: Tadpoles detect dragonflies and slow down to avoid being eaten.\n",
    "\n",
    "\n",
    "![Simulation Model](images/idea.png)\n",
    "Fig. 2: First concept sketch of the agent types (dragonfly larvae & tadpoles) with vision field"
   ]
  },
  {
   "cell_type": "markdown",
   "id": "081a421e-57da-4366-bb6f-554c15b6e994",
   "metadata": {},
   "source": [
    "### Setup Vivarium"
   ]
  },
  {
   "cell_type": "code",
   "execution_count": 1,
   "id": "f07e177a-2afd-4bc1-be65-bd2db9c39990",
   "metadata": {},
   "outputs": [],
   "source": [
    "from vivarium.controllers.notebook_controller import NotebookController\n",
    "from vivarium.utils.handle_server_interface import start_server_and_interface, stop_server_and_interface"
   ]
  },
  {
   "cell_type": "markdown",
   "id": "3e913083-557a-47da-8423-2322254614e7",
   "metadata": {},
   "source": [
    "## Simulation Setup\n",
    "#### Before running this simulation for the first time (or if you made changes to that file):\n",
    "Move `dragonfly_tadpole_scene.yaml` to your `vivarium/conf/scene` Folder. \n",
    "\n",
    "From the terminal, run the following command:\n",
    "\n",
    "`cp dragonfly_tadpole_scene.yaml (PATH TO vivarium/conf/scene)`\n",
    "\n",
    "Then, you can proceed.\n",
    "\n",
    "#### Start the server and init the controller with the agents"
   ]
  },
  {
   "cell_type": "code",
   "execution_count": 19,
   "id": "f65a4088-4f95-4e62-8f5e-ad7c53b21dd7",
   "metadata": {
    "scrolled": true
   },
   "outputs": [
    {
     "name": "stderr",
     "output_type": "stream",
     "text": [
      " Found the process scripts/run_interface.py running with this PID: 86607\n",
      " Found the process scripts/run_server.py running with this PID: 86599\n"
     ]
    },
    {
     "name": "stdout",
     "output_type": "stream",
     "text": [
      "\n",
      "Stopping server and interface processes\n",
      "\n"
     ]
    },
    {
     "name": "stdin",
     "output_type": "stream",
     "text": [
      "\n",
      "The following processes are running:\n",
      " - Interface (PIDs: ['86607'])\n",
      " - Server (PIDs: ['86599'])\n",
      "Do you want to stop them? (y/n):  y\n"
     ]
    },
    {
     "name": "stderr",
     "output_type": "stream",
     "text": [
      "Killed process with PID: 86607\n",
      "Killed process with PID: 86599\n",
      "\n",
      "Server and Interface processes have been stopped\n",
      "\n"
     ]
    },
    {
     "name": "stdout",
     "output_type": "stream",
     "text": [
      "Received signal 15, shutting down\n",
      "/Users/jennifer.warbeck/vivarium/vivarium/utils\n",
      "\n",
      "STARTING SERVER\n",
      "[2025-02-04 16:54:41,201][__main__][INFO] - Scene running: dragonfly_tadpole_scene\n",
      "[2025-02-04 16:54:43,108][vivarium.simulator.simulator][INFO] - Simulator initialized\n",
      "\n",
      "STARTING INTERFACE\n"
     ]
    },
    {
     "name": "stderr",
     "output_type": "stream",
     "text": [
      "2025-02-04 16:54:46,980 Starting Bokeh server version 3.3.4 (running on Tornado 6.4.2)\n",
      "2025-02-04 16:54:46,981 User authentication hooks NOT provided (default user enabled)\n",
      "2025-02-04 16:54:46,983 Bokeh app running at: http://localhost:5006/run_interface\n",
      "2025-02-04 16:54:46,983 Starting Bokeh server with process id: 86746\n"
     ]
    }
   ],
   "source": [
    "start_server_and_interface(scene_name=\"dragonfly_tadpole_scene\")\n"
   ]
  },
  {
   "cell_type": "code",
   "execution_count": 20,
   "id": "d49ce262-df9f-4822-ba77-a72c20cfb4c2",
   "metadata": {},
   "outputs": [
    {
     "name": "stderr",
     "output_type": "stream",
     "text": [
      "/Users/jennifer.warbeck/miniconda3/lib/python3.12/site-packages/jax/_src/ops/scatter.py:96: FutureWarning: scatter inputs have incompatible types: cannot safely cast value from dtype=float32 to dtype=int32 with jax_numpy_dtype_promotion='standard'. In future JAX releases this will result in an error.\n",
      "  warnings.warn(\n"
     ]
    }
   ],
   "source": [
    "controller = NotebookController()"
   ]
  },
  {
   "cell_type": "code",
   "execution_count": 21,
   "id": "4664bf08-46d0-4e59-86e5-314b7e0cb295",
   "metadata": {},
   "outputs": [
    {
     "data": {
      "text/plain": [
       "[<vivarium.controllers.notebook_controller.Agent at 0x3382fcd10>,\n",
       " <vivarium.controllers.notebook_controller.Agent at 0x339d125a0>,\n",
       " <vivarium.controllers.notebook_controller.Agent at 0x339d13170>,\n",
       " <vivarium.controllers.notebook_controller.Agent at 0x339d105c0>,\n",
       " <vivarium.controllers.notebook_controller.Agent at 0x339d10b60>,\n",
       " <vivarium.controllers.notebook_controller.Agent at 0x339d12120>]"
      ]
     },
     "execution_count": 21,
     "metadata": {},
     "output_type": "execute_result"
    }
   ],
   "source": [
    "controller.agents"
   ]
  },
  {
   "cell_type": "code",
   "execution_count": 8,
   "id": "ace9889d-0ca1-49ac-b786-7c4945045882",
   "metadata": {
    "scrolled": true
   },
   "outputs": [
    {
     "name": "stdout",
     "output_type": "stream",
     "text": [
      "Dragonfly Sensor Data: Left=0.0, Right=-0.0\n",
      "No tadpoles detected. Patrolling...\n",
      "Dragonfly Sensor Data: Left=0.0, Right=-0.0\n",
      "No tadpoles detected. Patrolling...\n",
      "Simulator is already stopped\n"
     ]
    }
   ],
   "source": [
    "controller.run()"
   ]
  },
  {
   "cell_type": "markdown",
   "id": "8a35c00e-fbae-45a6-87f8-3ba892926682",
   "metadata": {},
   "source": [
    "### Tadpole behavior `tadpole_behavior(agent)`\n",
    "\n",
    "- Simulates how a **tadpole** reacts to sensing a **dragonfly larva**.\n",
    "- Uses **sensors** to detect `DRAGONFLY_LARVAE` on the left or right.\n",
    "- Normally, the tadpole moves forward at **half speed** (`left_motor = 0.5`, `right_motor = 0.5`).\n",
    "- If it detects a dragonfly larva (**left > 0 or right > 0**):\n",
    "  - It **stops moving** (`left_motor = 0`, `right_motor = 0`) as a defense mechanism."
   ]
  },
  {
   "cell_type": "code",
   "execution_count": 22,
   "id": "40386e62-6ea5-4f09-a2c4-4df30fd68719",
   "metadata": {},
   "outputs": [],
   "source": [
    "def tadpole_behavior(agent):\n",
    "    \"\"\"Tadpole slows down when sensing a dragonfly larvae.\"\"\"\n",
    "    \n",
    "    left, right = agent.sensors(sensed_entities=[\"DRAGONFLY_LARVAE\"])\n",
    "    \n",
    "    left_motor = 0.5\n",
    "    right_motor = 0.5\n",
    "    if left > 0 or right > 0:\n",
    "        left_motor = 0\n",
    "        right_motor = 0\n",
    "    return left_motor, right_motor"
   ]
  },
  {
   "cell_type": "markdown",
   "id": "89249bb8-3618-4d5d-96a7-f9d6ed9a2c0b",
   "metadata": {},
   "source": [
    "### Dragonfly behavior `dragonfly_behavior(agent)`\n",
    "\n",
    "- Simulates how a **dragonfly larva hunts tadpoles**.\n",
    "- Uses **sensors** to detect `TADPOLES` on the left or right.\n",
    "- Moves at a **base speed** of `0.5`.\n",
    "- If a tadpole is detected (**left > 0 or right > 0**):\n",
    "  - **Increases speed** by `0.2`.\n",
    "  - **Turns towards the detected tadpole** by adjusting motor speeds:\n",
    "    - If a tadpole is on the left → **turns left** (`right_motor > left_motor`).\n",
    "    - If a tadpole is on the right → **turns right** (`left_motor > right_motor`).\n",
    "- If no tadpoles are detected, it **moves straight** at the base speed.\n",
    "- Motor values are **clamped between 0.0 and 1.0** to prevent exceeding limits.\n",
    "- Defines **diet as \"TADPOLES\"**, indicating it preys on them.\n",
    "- Tadpoles that are stationary (not moving) are ignored"
   ]
  },
  {
   "cell_type": "code",
   "execution_count": 23,
   "id": "45c7d144-d11d-44e7-b08e-f189f5d1e3a3",
   "metadata": {},
   "outputs": [],
   "source": [
    "def dragonfly_behavior(agent):\n",
    "    \"\"\"Dragonfly larvae hunt only moving tadpoles; ignores stationary ones and always moves.\"\"\"\n",
    "\n",
    "    # Get sensor readings for nearby tadpoles\n",
    "    left, right = agent.sensors(sensed_entities=[\"TADPOLES\"])\n",
    "    base_speed = 0.5  # Maintain constant movement\n",
    "\n",
    "    # Debugging: Print sensor data\n",
    "    print(f\"Dragonfly Sensor Data: Left={left}, Right={right}\")\n",
    "\n",
    "    # Default movement (always move forward)\n",
    "    left_motor = base_speed\n",
    "    right_motor = base_speed\n",
    "\n",
    "    # Filter out stationary tadpoles from being eaten\n",
    "    moving_tadpoles = []\n",
    "    \n",
    "    # Check if tadpoles are detected\n",
    "    if left > 0 or right > 0:\n",
    "        print(\"Dragonfly detects tadpoles!\")\n",
    "\n",
    "        # Simulate checking for movement (approximate, since we don't have direct access to tadpole motor values)\n",
    "        if left > 0.05 or right > 0.05:  # If the detected tadpole is \"strongly\" detected, assume it's moving\n",
    "            print(\"Chasing moving tadpoles!\")\n",
    "            base_speed += 0.2  # Increase speed when hunting\n",
    "            left_motor = base_speed + (right - left)  # Turn towards right if sensing on left\n",
    "            right_motor = base_speed + (left - right)  # Turn towards left if sensing on right\n",
    "            \n",
    "            # Only consider moving tadpoles for eating\n",
    "            moving_tadpoles.append(\"TADPOLES\")\n",
    "\n",
    "        else:\n",
    "            print(\"Detected a stationary tadpole. Ignoring...\")\n",
    "\n",
    "    else:\n",
    "        print(\"No tadpoles detected. Patrolling...\")\n",
    "\n",
    "    # Prevent dragonflies from eating stationary tadpoles\n",
    "    agent.diet = moving_tadpoles  # Only consume moving tadpoles\n",
    "\n",
    "    # Ensure motor values stay within range [0, 1.0]\n",
    "    left_motor = max(0.0, min(left_motor, 1.0))\n",
    "    right_motor = max(0.0, min(right_motor, 1.0))\n",
    "\n",
    "    return left_motor, right_motor"
   ]
  },
  {
   "cell_type": "markdown",
   "id": "0ca1104c-3ff5-4c56-af2d-99244dc77569",
   "metadata": {},
   "source": [
    "### **Asynchronous Hunger Monitoring: `monitor_hunger(agent)`**\n",
    "\n",
    "The function `monitor_hunger(agent)` is an **asynchronous coroutine** that monitors whether a **dragonfly larva** has eaten within the last 50 seconds. If it hasn’t, the function removes the agent from the simulation.\n",
    "\n",
    "#### **How It Works:**\n",
    "- The function runs **recursively** in an infinite loop (`while True`).\n",
    "- It **pauses execution** for **50 seconds** using `await asyncio.sleep(50)`.\n",
    "- It then checks if the agent has eaten in the last **50 seconds** using `agent.has_eaten_since(50)`.\n",
    "  - If **`False`** (meaning the dragonfly **has not eaten**), it is removed (`agent.exists = False`).\n",
    "  - The function then **exits (`return`)**, stopping further execution.\n",
    "\n",
    "#### **Key Features:**\n",
    "- **Asynchronous Execution:** The use of `async def` and `await asyncio.sleep(50)` allows the function to run **without blocking** other tasks.\n",
    "- **Hunger Monitoring:** Continuously checks if the agent has eaten and removes it if it hasn’t.\n",
    "- **Automatic Removal:** Once the hunger threshold is exceeded, the dragonfly larva **is removed from the simulation**, preventing inactive agents from persisting.\n"
   ]
  },
  {
   "cell_type": "code",
   "execution_count": 11,
   "id": "c3746811-bf82-491b-abf4-fe1300f969d9",
   "metadata": {},
   "outputs": [],
   "source": [
    "import asyncio\n",
    "\n",
    "async def monitor_hunger(agent):\n",
    "    \"\"\"Recursively checks if the dragonfly larvae has eaten in the last 10 seconds.\n",
    "       If not, removes the agent from the simulation.\n",
    "    \"\"\"\n",
    "    hunger_limit = 60.0  # Max time (seconds) without eating\n",
    "\n",
    "    while True:\n",
    "        await asyncio.sleep(50)  # Wait 10 seconds before checking condition\n",
    "\n",
    "        \n",
    "        # If hunger limit exceeded, remove the agent\n",
    "        if agent.has_eaten_since(50) == False:\n",
    "            agent.exists = False\n",
    "            return  # Stop the coroutine after removal\n"
   ]
  },
  {
   "cell_type": "markdown",
   "id": "d089f625-dd4f-45ce-967a-ba40b95d185f",
   "metadata": {},
   "source": [
    "## **Initializing Tadpoles and Dragonfly Larvae Behavior**"
   ]
  },
  {
   "cell_type": "markdown",
   "id": "fc54452f-f08b-4966-a27d-a6ffb348a969",
   "metadata": {},
   "source": [
    "\n",
    "### **Step 1: Assigning Agents to Groups**\n",
    "- `tadpoles = [controller.agents[0], controller.agents[1], controller.agents[2], controller.agents[3]]`  \n",
    "  - Selects the **first four agents** and assigns them as **tadpoles**.\n",
    "- `dragonflies = [controller.agents[4], controller.agents[5]]`  \n",
    "  - Selects the **next two agents** and assigns them as **dragonfly larvae**."
   ]
  },
  {
   "cell_type": "code",
   "execution_count": 24,
   "id": "014353ce-7df7-4f3d-8bf9-9ff19506915b",
   "metadata": {},
   "outputs": [],
   "source": [
    "tadpoles = [controller.agents[0], controller.agents[1], controller.agents[2], controller.agents[3]]\n",
    "dragonflies = [controller.agents[4], controller.agents[5]]"
   ]
  },
  {
   "cell_type": "markdown",
   "id": "15b12913-63fb-4d4f-a304-717159ad6815",
   "metadata": {},
   "source": [
    "### **Step 2: Configuring Tadpoles**\n",
    "- The loop `for tadpole in tadpoles:` iterates over all tadpoles.\n",
    "  - **Removes all previous behaviors** using `tadpole.detach_all_behaviors()`.\n",
    "  - **Attaches the tadpole behavior** using `tadpole.attach_behavior(tadpole_behavior)`, enabling them to detect dragonfly larvae.\n",
    "  - **Sets their movement speed** (`left_motor = 0.5`, `right_motor = 0.5`) to move forward at a normal pace.\n"
   ]
  },
  {
   "cell_type": "code",
   "execution_count": 13,
   "id": "37918734-ebd8-48d0-b9cb-1f03f335a8e8",
   "metadata": {},
   "outputs": [],
   "source": [
    "for tadpole in tadpoles:\n",
    "    tadpole.detach_all_behaviors()\n",
    "    tadpole.attach_behavior(tadpole_behavior)\n",
    "    tadpole.left_motor = 0.5\n",
    "    tadpole.right_motor = 0.5"
   ]
  },
  {
   "cell_type": "markdown",
   "id": "9e979151-541d-4014-9245-218441434ebd",
   "metadata": {},
   "source": [
    "### **Step 3: Configuring Dragonflies**\n",
    "- The loop `for dragonfly in dragonflies:` iterates over all dragonfly larvae.\n",
    "  - **Removes all previous behaviors** using `dragonfly.detach_all_behaviors()`.\n",
    "  - **Attaches the dragonfly behavior** using `dragonfly.attach_behavior(dragonfly_behavior)`, allowing them to hunt tadpoles.\n",
    "  - **Starts the hunger monitoring task** asynchronously with `asyncio.create_task(monitor_hunger(dragonfly))`, ensuring that dragonfly larvae are removed from the simulation if they don’t eat within the defined hunger limit.\n",
    "  - **Sets their movement speed** (`left_motor = 0.5`, `right_motor = 0.5`) to move forward at a base speed."
   ]
  },
  {
   "cell_type": "code",
   "execution_count": 14,
   "id": "4978bcff-1ba3-4555-8ea4-23425897ec36",
   "metadata": {},
   "outputs": [],
   "source": [
    "for dragonfly in dragonflies:\n",
    "    dragonfly.detach_all_behaviors()\n",
    "    dragonfly.attach_behavior(dragonfly_behavior)\n",
    "    asyncio.create_task(monitor_hunger(dragonfly))\n",
    "    dragonfly.left_motor = 0.5\n",
    "    dragonfly.right_motor = 0.5"
   ]
  },
  {
   "cell_type": "markdown",
   "id": "aafa77d2-e917-4a5a-9286-2b3d43e89412",
   "metadata": {},
   "source": [
    "### **Step 4: Enabling the Eating Mechanism**\n",
    "- `controller.start_eating_mechanism()`  \n",
    "  - This function **activates the eating system**, allowing predator-prey interactions where dragonfly larvae can consume tadpoles."
   ]
  },
  {
   "cell_type": "code",
   "execution_count": 17,
   "id": "215fc638-80f7-4535-bc10-f3fa9d0dddd5",
   "metadata": {},
   "outputs": [],
   "source": [
    "controller.start_eating_mechanism()"
   ]
  },
  {
   "cell_type": "markdown",
   "id": "ca33dd6b-df05-446e-a7a1-5259d09d311d",
   "metadata": {},
   "source": [
    "#### Stop the controller"
   ]
  },
  {
   "cell_type": "code",
   "execution_count": 1,
   "id": "51f4f168-f94a-403e-956f-a963806e43c8",
   "metadata": {},
   "outputs": [
    {
     "ename": "NameError",
     "evalue": "name 'controller' is not defined",
     "output_type": "error",
     "traceback": [
      "\u001b[0;31m---------------------------------------------------------------------------\u001b[0m",
      "\u001b[0;31mNameError\u001b[0m                                 Traceback (most recent call last)",
      "Cell \u001b[0;32mIn[1], line 1\u001b[0m\n\u001b[0;32m----> 1\u001b[0m \u001b[43mcontroller\u001b[49m\u001b[38;5;241m.\u001b[39mstop()\n",
      "\u001b[0;31mNameError\u001b[0m: name 'controller' is not defined"
     ]
    }
   ],
   "source": [
    "controller.stop()"
   ]
  },
  {
   "cell_type": "markdown",
   "id": "2630b3bf-c6b6-44c5-b491-c05b9bbfd4dd",
   "metadata": {},
   "source": [
    "# **Discussion**\n",
    "## **Main Problems we ran into**\n",
    "- **Jupyter Notebook has Layout Issues sometimes when trying to add a new section** → This made the development and documentation process longer.\n",
    "- **The dragonfly_tadpole_scene.yaml File** → It is a pain having to move it to the vivarium Folder each time when you make changes to that file\n",
    "- **The checking of the life energy of the dragonfly** → Implementing an `async def monitor_hunger(agent)` was not intutive at first\n",
    "\n",
    "## **Current Limitations of the Simulation**  \n",
    "- **Performance issues** → Our laptops sometimes crashed due to high processing demands.  \n",
    "- **Dragonfly tracking is too persistent** → Once a dragonfly sees a moving tadpole, it keeps chasing even if the tadpole stops, giving the predator an advantage.  \n",
    "- **Dragonflies move too slowly** → They often die before catching prey, making survival difficult.  \n",
    "- **Hunger system could be improved** → We spent a lot of time debugging the hunger mechanic and ended up using an asynchronous function, but it doesn’t feel like the cleanest solution—there might be a better approach.  \n"
   ]
  },
  {
   "cell_type": "markdown",
   "id": "8a3d06f0-8fc4-4f84-b84f-3a1c07a543d1",
   "metadata": {},
   "source": [
    "## **Future Improvements of the Simulation**  \n",
    "- **More tadpoles, smaller vision field** → Helps dragonflies survive longer by increasing prey density.  \n",
    "- **Tadpole escape behavior** → Instead of just slowing down, tadpoles could randomly dart away.  \n",
    "- **Add obstacles / hiding spots for tadpoles**"
   ]
  },
  {
   "cell_type": "code",
   "execution_count": null,
   "id": "4facbb38-bc09-4056-867f-76fb00177e6c",
   "metadata": {},
   "outputs": [],
   "source": []
  },
  {
   "cell_type": "markdown",
   "id": "4d24623c-c515-47a9-a4b2-654aa8a0a5d6",
   "metadata": {},
   "source": [
    "### References\n",
    "1. Mogali, S. M., Shanbhag, B. A., & Saidapur, S. K. (2023). Behavioral responses of tadpoles of Clinotarsus curtipes (Anura: Ranidae) to odor cues of dragonfly larvae. Phyllomedusa, 22(1), 11–20. https://doi.org/10.11606/issn.2316-9079.v22i1p11-20\n",
    "2. Teruhiko Takahara, Yukihiro Kohmatsu, Atsushi Maruyama, Hideyuki Doi, Hiroki Yamanaka, Ryohei Yamaoka, Inducible defense behavior of an anuran tadpole: cue-detection range and cue types used against predator, Behavioral Ecology, Volume 23, Issue 4, July-August 2012, Pages 863–868, https://doi.org/10.1093/beheco/ars044"
   ]
  }
 ],
 "metadata": {
  "kernelspec": {
   "display_name": "Python 3 (ipykernel)",
   "language": "python",
   "name": "python3"
  },
  "language_info": {
   "codemirror_mode": {
    "name": "ipython",
    "version": 3
   },
   "file_extension": ".py",
   "mimetype": "text/x-python",
   "name": "python",
   "nbconvert_exporter": "python",
   "pygments_lexer": "ipython3",
   "version": "3.12.8"
  }
 },
 "nbformat": 4,
 "nbformat_minor": 5
}
